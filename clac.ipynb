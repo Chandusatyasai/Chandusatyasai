{
  "nbformat": 4,
  "nbformat_minor": 0,
  "metadata": {
    "colab": {
      "provenance": [],
      "include_colab_link": true
    },
    "kernelspec": {
      "name": "python3",
      "display_name": "Python 3"
    },
    "language_info": {
      "name": "python"
    },
    "widgets": {
      "application/vnd.jupyter.widget-state+json": {
        "028230f9d7a14e218236480c559671b8": {
          "model_module": "@jupyter-widgets/controls",
          "model_name": "FloatTextModel",
          "model_module_version": "1.5.0",
          "state": {
            "_dom_classes": [],
            "_model_module": "@jupyter-widgets/controls",
            "_model_module_version": "1.5.0",
            "_model_name": "FloatTextModel",
            "_view_count": null,
            "_view_module": "@jupyter-widgets/controls",
            "_view_module_version": "1.5.0",
            "_view_name": "FloatTextView",
            "continuous_update": false,
            "description": "Number 1:",
            "description_tooltip": null,
            "disabled": false,
            "layout": "IPY_MODEL_8dc5c0d12cdb4616878b52a30d61534d",
            "step": null,
            "style": "IPY_MODEL_8ff2e902672141bca7556f12793de0e6",
            "value": 125
          }
        },
        "8dc5c0d12cdb4616878b52a30d61534d": {
          "model_module": "@jupyter-widgets/base",
          "model_name": "LayoutModel",
          "model_module_version": "1.2.0",
          "state": {
            "_model_module": "@jupyter-widgets/base",
            "_model_module_version": "1.2.0",
            "_model_name": "LayoutModel",
            "_view_count": null,
            "_view_module": "@jupyter-widgets/base",
            "_view_module_version": "1.2.0",
            "_view_name": "LayoutView",
            "align_content": null,
            "align_items": null,
            "align_self": null,
            "border": null,
            "bottom": null,
            "display": null,
            "flex": null,
            "flex_flow": null,
            "grid_area": null,
            "grid_auto_columns": null,
            "grid_auto_flow": null,
            "grid_auto_rows": null,
            "grid_column": null,
            "grid_gap": null,
            "grid_row": null,
            "grid_template_areas": null,
            "grid_template_columns": null,
            "grid_template_rows": null,
            "height": null,
            "justify_content": null,
            "justify_items": null,
            "left": null,
            "margin": null,
            "max_height": null,
            "max_width": null,
            "min_height": null,
            "min_width": null,
            "object_fit": null,
            "object_position": null,
            "order": null,
            "overflow": null,
            "overflow_x": null,
            "overflow_y": null,
            "padding": null,
            "right": null,
            "top": null,
            "visibility": null,
            "width": null
          }
        },
        "8ff2e902672141bca7556f12793de0e6": {
          "model_module": "@jupyter-widgets/controls",
          "model_name": "DescriptionStyleModel",
          "model_module_version": "1.5.0",
          "state": {
            "_model_module": "@jupyter-widgets/controls",
            "_model_module_version": "1.5.0",
            "_model_name": "DescriptionStyleModel",
            "_view_count": null,
            "_view_module": "@jupyter-widgets/base",
            "_view_module_version": "1.2.0",
            "_view_name": "StyleView",
            "description_width": ""
          }
        },
        "8a0a190b2ff84e6f918c57dd79bc3cd2": {
          "model_module": "@jupyter-widgets/controls",
          "model_name": "FloatTextModel",
          "model_module_version": "1.5.0",
          "state": {
            "_dom_classes": [],
            "_model_module": "@jupyter-widgets/controls",
            "_model_module_version": "1.5.0",
            "_model_name": "FloatTextModel",
            "_view_count": null,
            "_view_module": "@jupyter-widgets/controls",
            "_view_module_version": "1.5.0",
            "_view_name": "FloatTextView",
            "continuous_update": false,
            "description": "Number 2:",
            "description_tooltip": null,
            "disabled": false,
            "layout": "IPY_MODEL_2022de97e3da471aba5711d0e7c48d76",
            "step": null,
            "style": "IPY_MODEL_3b5759fa0f454082a356adaa5e2f3f95",
            "value": 124
          }
        },
        "2022de97e3da471aba5711d0e7c48d76": {
          "model_module": "@jupyter-widgets/base",
          "model_name": "LayoutModel",
          "model_module_version": "1.2.0",
          "state": {
            "_model_module": "@jupyter-widgets/base",
            "_model_module_version": "1.2.0",
            "_model_name": "LayoutModel",
            "_view_count": null,
            "_view_module": "@jupyter-widgets/base",
            "_view_module_version": "1.2.0",
            "_view_name": "LayoutView",
            "align_content": null,
            "align_items": null,
            "align_self": null,
            "border": null,
            "bottom": null,
            "display": null,
            "flex": null,
            "flex_flow": null,
            "grid_area": null,
            "grid_auto_columns": null,
            "grid_auto_flow": null,
            "grid_auto_rows": null,
            "grid_column": null,
            "grid_gap": null,
            "grid_row": null,
            "grid_template_areas": null,
            "grid_template_columns": null,
            "grid_template_rows": null,
            "height": null,
            "justify_content": null,
            "justify_items": null,
            "left": null,
            "margin": null,
            "max_height": null,
            "max_width": null,
            "min_height": null,
            "min_width": null,
            "object_fit": null,
            "object_position": null,
            "order": null,
            "overflow": null,
            "overflow_x": null,
            "overflow_y": null,
            "padding": null,
            "right": null,
            "top": null,
            "visibility": null,
            "width": null
          }
        },
        "3b5759fa0f454082a356adaa5e2f3f95": {
          "model_module": "@jupyter-widgets/controls",
          "model_name": "DescriptionStyleModel",
          "model_module_version": "1.5.0",
          "state": {
            "_model_module": "@jupyter-widgets/controls",
            "_model_module_version": "1.5.0",
            "_model_name": "DescriptionStyleModel",
            "_view_count": null,
            "_view_module": "@jupyter-widgets/base",
            "_view_module_version": "1.2.0",
            "_view_name": "StyleView",
            "description_width": ""
          }
        },
        "0435fbf092c24678a140b5d39d0cf094": {
          "model_module": "@jupyter-widgets/controls",
          "model_name": "DropdownModel",
          "model_module_version": "1.5.0",
          "state": {
            "_dom_classes": [],
            "_model_module": "@jupyter-widgets/controls",
            "_model_module_version": "1.5.0",
            "_model_name": "DropdownModel",
            "_options_labels": [
              "Addition",
              "Subtraction",
              "Multiplication",
              "Division"
            ],
            "_view_count": null,
            "_view_module": "@jupyter-widgets/controls",
            "_view_module_version": "1.5.0",
            "_view_name": "DropdownView",
            "description": "Operation:",
            "description_tooltip": null,
            "disabled": false,
            "index": 2,
            "layout": "IPY_MODEL_3d65cf024ae143c694efef8ebded23bf",
            "style": "IPY_MODEL_297846c1e28a40749d6e4325a4fff9d2"
          }
        },
        "3d65cf024ae143c694efef8ebded23bf": {
          "model_module": "@jupyter-widgets/base",
          "model_name": "LayoutModel",
          "model_module_version": "1.2.0",
          "state": {
            "_model_module": "@jupyter-widgets/base",
            "_model_module_version": "1.2.0",
            "_model_name": "LayoutModel",
            "_view_count": null,
            "_view_module": "@jupyter-widgets/base",
            "_view_module_version": "1.2.0",
            "_view_name": "LayoutView",
            "align_content": null,
            "align_items": null,
            "align_self": null,
            "border": null,
            "bottom": null,
            "display": null,
            "flex": null,
            "flex_flow": null,
            "grid_area": null,
            "grid_auto_columns": null,
            "grid_auto_flow": null,
            "grid_auto_rows": null,
            "grid_column": null,
            "grid_gap": null,
            "grid_row": null,
            "grid_template_areas": null,
            "grid_template_columns": null,
            "grid_template_rows": null,
            "height": null,
            "justify_content": null,
            "justify_items": null,
            "left": null,
            "margin": null,
            "max_height": null,
            "max_width": null,
            "min_height": null,
            "min_width": null,
            "object_fit": null,
            "object_position": null,
            "order": null,
            "overflow": null,
            "overflow_x": null,
            "overflow_y": null,
            "padding": null,
            "right": null,
            "top": null,
            "visibility": null,
            "width": null
          }
        },
        "297846c1e28a40749d6e4325a4fff9d2": {
          "model_module": "@jupyter-widgets/controls",
          "model_name": "DescriptionStyleModel",
          "model_module_version": "1.5.0",
          "state": {
            "_model_module": "@jupyter-widgets/controls",
            "_model_module_version": "1.5.0",
            "_model_name": "DescriptionStyleModel",
            "_view_count": null,
            "_view_module": "@jupyter-widgets/base",
            "_view_module_version": "1.2.0",
            "_view_name": "StyleView",
            "description_width": ""
          }
        },
        "bab86a2bca6143ada72026720241ccf0": {
          "model_module": "@jupyter-widgets/controls",
          "model_name": "ButtonModel",
          "model_module_version": "1.5.0",
          "state": {
            "_dom_classes": [],
            "_model_module": "@jupyter-widgets/controls",
            "_model_module_version": "1.5.0",
            "_model_name": "ButtonModel",
            "_view_count": null,
            "_view_module": "@jupyter-widgets/controls",
            "_view_module_version": "1.5.0",
            "_view_name": "ButtonView",
            "button_style": "",
            "description": "Calculate",
            "disabled": false,
            "icon": "",
            "layout": "IPY_MODEL_648201ba4d9b48e08fd83e891e43bf3a",
            "style": "IPY_MODEL_e910d1ba90e0422cb66bc0163827e84d",
            "tooltip": ""
          }
        },
        "648201ba4d9b48e08fd83e891e43bf3a": {
          "model_module": "@jupyter-widgets/base",
          "model_name": "LayoutModel",
          "model_module_version": "1.2.0",
          "state": {
            "_model_module": "@jupyter-widgets/base",
            "_model_module_version": "1.2.0",
            "_model_name": "LayoutModel",
            "_view_count": null,
            "_view_module": "@jupyter-widgets/base",
            "_view_module_version": "1.2.0",
            "_view_name": "LayoutView",
            "align_content": null,
            "align_items": null,
            "align_self": null,
            "border": null,
            "bottom": null,
            "display": null,
            "flex": null,
            "flex_flow": null,
            "grid_area": null,
            "grid_auto_columns": null,
            "grid_auto_flow": null,
            "grid_auto_rows": null,
            "grid_column": null,
            "grid_gap": null,
            "grid_row": null,
            "grid_template_areas": null,
            "grid_template_columns": null,
            "grid_template_rows": null,
            "height": null,
            "justify_content": null,
            "justify_items": null,
            "left": null,
            "margin": null,
            "max_height": null,
            "max_width": null,
            "min_height": null,
            "min_width": null,
            "object_fit": null,
            "object_position": null,
            "order": null,
            "overflow": null,
            "overflow_x": null,
            "overflow_y": null,
            "padding": null,
            "right": null,
            "top": null,
            "visibility": null,
            "width": null
          }
        },
        "e910d1ba90e0422cb66bc0163827e84d": {
          "model_module": "@jupyter-widgets/controls",
          "model_name": "ButtonStyleModel",
          "model_module_version": "1.5.0",
          "state": {
            "_model_module": "@jupyter-widgets/controls",
            "_model_module_version": "1.5.0",
            "_model_name": "ButtonStyleModel",
            "_view_count": null,
            "_view_module": "@jupyter-widgets/base",
            "_view_module_version": "1.2.0",
            "_view_name": "StyleView",
            "button_color": null,
            "font_weight": ""
          }
        },
        "20aa20a0cda54e269ca6634be7e0c01d": {
          "model_module": "@jupyter-widgets/controls",
          "model_name": "TextModel",
          "model_module_version": "1.5.0",
          "state": {
            "_dom_classes": [],
            "_model_module": "@jupyter-widgets/controls",
            "_model_module_version": "1.5.0",
            "_model_name": "TextModel",
            "_view_count": null,
            "_view_module": "@jupyter-widgets/controls",
            "_view_module_version": "1.5.0",
            "_view_name": "TextView",
            "continuous_update": true,
            "description": "Result:",
            "description_tooltip": null,
            "disabled": false,
            "layout": "IPY_MODEL_df86cf87da29435caa603c3220100fe2",
            "placeholder": "​",
            "style": "IPY_MODEL_17ef843ac63946f7b8943c8c62e9f60f",
            "value": "15500.0"
          }
        },
        "df86cf87da29435caa603c3220100fe2": {
          "model_module": "@jupyter-widgets/base",
          "model_name": "LayoutModel",
          "model_module_version": "1.2.0",
          "state": {
            "_model_module": "@jupyter-widgets/base",
            "_model_module_version": "1.2.0",
            "_model_name": "LayoutModel",
            "_view_count": null,
            "_view_module": "@jupyter-widgets/base",
            "_view_module_version": "1.2.0",
            "_view_name": "LayoutView",
            "align_content": null,
            "align_items": null,
            "align_self": null,
            "border": null,
            "bottom": null,
            "display": null,
            "flex": null,
            "flex_flow": null,
            "grid_area": null,
            "grid_auto_columns": null,
            "grid_auto_flow": null,
            "grid_auto_rows": null,
            "grid_column": null,
            "grid_gap": null,
            "grid_row": null,
            "grid_template_areas": null,
            "grid_template_columns": null,
            "grid_template_rows": null,
            "height": null,
            "justify_content": null,
            "justify_items": null,
            "left": null,
            "margin": null,
            "max_height": null,
            "max_width": null,
            "min_height": null,
            "min_width": null,
            "object_fit": null,
            "object_position": null,
            "order": null,
            "overflow": null,
            "overflow_x": null,
            "overflow_y": null,
            "padding": null,
            "right": null,
            "top": null,
            "visibility": null,
            "width": null
          }
        },
        "17ef843ac63946f7b8943c8c62e9f60f": {
          "model_module": "@jupyter-widgets/controls",
          "model_name": "DescriptionStyleModel",
          "model_module_version": "1.5.0",
          "state": {
            "_model_module": "@jupyter-widgets/controls",
            "_model_module_version": "1.5.0",
            "_model_name": "DescriptionStyleModel",
            "_view_count": null,
            "_view_module": "@jupyter-widgets/base",
            "_view_module_version": "1.2.0",
            "_view_name": "StyleView",
            "description_width": ""
          }
        }
      }
    }
  },
  "cells": [
    {
      "cell_type": "markdown",
      "metadata": {
        "id": "view-in-github",
        "colab_type": "text"
      },
      "source": [
        "<a href=\"https://colab.research.google.com/github/Chandusatyasai/Chandusatyasai/blob/microit/clac.ipynb\" target=\"_parent\"><img src=\"https://colab.research.google.com/assets/colab-badge.svg\" alt=\"Open In Colab\"/></a>"
      ]
    },
    {
      "cell_type": "code",
      "execution_count": 2,
      "metadata": {
        "id": "uJpriMVKk0sP",
        "colab": {
          "base_uri": "https://localhost:8080/"
        },
        "outputId": "d0340229-90d3-40fb-ca5c-093df68a1f25"
      },
      "outputs": [
        {
          "output_type": "stream",
          "name": "stdout",
          "text": [
            "Reading package lists... Done\n",
            "Building dependency tree... Done\n",
            "Reading state information... Done\n",
            "xvfb is already the newest version (2:21.1.4-2ubuntu1.7~22.04.14).\n",
            "0 upgraded, 0 newly installed, 0 to remove and 35 not upgraded.\n",
            "Requirement already satisfied: pyvirtualdisplay in /usr/local/lib/python3.11/dist-packages (3.0)\n"
          ]
        }
      ],
      "source": [
        "!apt-get install -y xvfb # Install X Virtual Frame Buffer\n",
        "!pip install pyvirtualdisplay\n",
        "import pyvirtualdisplay\n",
        "display = pyvirtualdisplay.Display(visible=0, size=(1024, 768))\n",
        "from pyvirtualdisplay import Display\n",
        "display = Display(visible=0, size=(1024, 768))\n",
        "display.start()\n",
        "import os\n",
        "os.system('Xvfb :1 -screen 0 1600x1200x16  &')\n",
        "from ast import Add\n",
        "import tkinter\n",
        "from tkinter import *\n",
        "root=tkinter.Tk()\n",
        "root.title(\"Rakesh Calc\")\n",
        "e=tkinter.Entry(root,width=35,borderwidth=5)\n",
        "e.grid(row=0,column=0,columnspan=3,padx=10,pady=10)\n",
        "def button_click(number):\n",
        "    current=e.get()\n",
        "    e.delete(0,END)\n",
        "    e.insert(0,str(current)+str(number))\n",
        "def button_clear():\n",
        "    e.delete(0,END)\n",
        "def button_add():\n",
        "    first_number=e.get()\n",
        "    global f_num\n",
        "    global math\n",
        "    math=\"addition\"\n",
        "    f_num=int(first_number)\n",
        "    e.delete(0,END)\n",
        "def button_equal():\n",
        "    second_number=e.get()\n",
        "    e.delete(0,END)\n",
        "    if math==\"addition\":\n",
        "        e.insert(0,f_num+int(second_number))\n",
        "    elif math==\"subtraction\":\n",
        "        e.insert(0,f_num-int(second_number))\n",
        "    elif math==\"multiplication\":\n",
        "        e.insert(0,f_num*int(second_number))\n",
        "    elif math==\"division\":\n",
        "        e.insert(0,f_num/int(second_number))\n",
        "    elif math==\"modulus\":\n",
        "        e.insert(0,f_num%int(second_number))\n",
        "    elif math==\"power\":\n",
        "        e.insert(0,f_num**int(second_number))\n",
        "def subtract():\n",
        "    first_number=e.get()\n",
        "    global f_num\n",
        "    global math\n",
        "    math=\"subtraction\"\n",
        "    f_num=int(first_number)\n",
        "    e.delete(0,END)\n",
        "    return\n",
        "def multiply():\n",
        "    first_number=e.get()\n",
        "    global f_num\n",
        "    global math\n",
        "    math=\"multiplication\"\n",
        "    f_num=int(first_number)\n",
        "    e.delete(0,END)\n",
        "    return\n",
        "def divide():\n",
        "    first_number=e.get()\n",
        "    global f_num\n",
        "    global math\n",
        "    math=\"division\"\n",
        "    f_num=int(first_number)\n",
        "    e.delete(0,END)\n",
        "    return\n",
        "def modulus():\n",
        "    first_number=e.get()\n",
        "    global f_num\n",
        "    global math\n",
        "    math=\"modulus\"\n",
        "    f_num=int(first_number)\n",
        "    e.delete(0,END)\n",
        "    return\n",
        "def power():\n",
        "    first_number=e.get()\n",
        "    global f_num\n",
        "    global math\n",
        "    math=\"power\"\n",
        "    f_num=int(first_number)\n",
        "    e.delete(0,END)\n",
        "    return\n",
        "    button1=tkinter.Button(root,text=\"1\",padx=40,pady=20,command=lambda:button_click(1))\n",
        "    button2=tkinter.Button(root,text=\"2\",padx=40,pady=20,command=lambda:button_click(2))\n",
        "    button3=tkinter.Button(root,text=\"3\",padx=40,pady=20,command=lambda:button_click(3))\n",
        "    button4=tkinter.Button(root,text=\"4\",padx=40,pady=20,command=lambda:button_click(4))\n",
        "    button5=tkinter.Button(root,text=\"5\",padx=40,pady=20,command=lambda:button_click(5))\n",
        "    button6=tkinter.Button(root,text=\"6\",padx=40,pady=20,command=lambda:button_click(6))\n",
        "    button7=tkinter.Button(root,text=\"7\",padx=40,pady=20,command=lambda:button_click(7))\n",
        "    button8=tkinter.Button(root,text=\"8\",padx=40,pady=20,command=lambda:button_click(8))\n",
        "    button9=tkinter.Button(root,text=\"9\",padx=40,pady=20,command=lambda:button_click(9))\n",
        "    button0=tkinter.Button(root,text=\"0\",padx=40,pady=20,command=lambda:button_click(0))\n",
        "    button_add=tkinter.Button(root,text=\"+\",padx=39,pady=20,command=button_add)\n",
        "    button_equal=tkinter.Button(root,text=\"=\",padx=91,pady=20,command=button_equal)\n",
        "    button_clear=tkinter.Button(root,text=\"Clear\",padx=79,pady=20,command=button_clear)\n",
        "    button_subtract=tkinter.Button(root,text=\"-\",padx=41,pady=20,command=subtract)\n",
        "    button_multiply=tkinter.Button(root,text=\"*\",padx=40,pady=20,command=multiply)\n",
        "    button_divide=tkinter.Button(root,text=\"/\",padx=41,pady=20,command=divide)\n",
        "    button_modulus=tkinter.Button(root,text=\"%\",padx=41,pady=20,command=modulus)\n",
        "    button_power=tkinter.Button(root,text=\"^\",padx=41,pady=20,command=power)\n",
        "    buttonqiut=tkinter.Button(root,text=\"Quit\",padx=41,pady=20,command=quit)\n",
        "    button1.grid(row=3,column=0)\n",
        "    button2.grid(row=3,column=1)\n",
        "    button3.grid(row=3,column=2)\n",
        "    button4.grid(row=2,column=0)\n",
        "    button5.grid(row=2,column=1)\n",
        "    button6.grid(row=2,column=2)\n",
        "    button7.grid(row=1,column=0)\n",
        "    button8.grid(row=1,column=1)\n",
        "    button9.grid(row=1,column=2)\n",
        "    button0.grid(row=4,column=0)\n",
        "    button_add.grid(row=5,column=0)\n",
        "    button_equal.grid(row=5,column=1,columnspan=2)\n",
        "    button_clear.grid(row=4,column=1,columnspan=2)\n",
        "    button_subtract.grid(row=6,column=0)\n",
        "    button_multiply.grid(row=6,column=1)\n",
        "    button_divide.grid(row=6,column=2)\n",
        "    button_modulus.grid(row=7,column=0)\n",
        "    button_power.grid(row=7,column=1)\n",
        "    buttonqiut.grid(row=7,column=2)\n",
        "    root.mainloop( )"
      ]
    },
    {
      "cell_type": "code",
      "source": [
        "num1=int(input(\"Enter first number: \"))\n",
        "num2=int(input(\"Enter second number:\"))\n",
        "operator=input(\"Enter operator: (+,-,*,/,%,**):\")\n",
        "result=0\n",
        "if operator==\"+\":\n",
        "    result=num1+num2\n",
        "elif operator==\"-\":\n",
        "    result=num1-num2\n",
        "elif operator==\"*\":\n",
        "    result=num1*num2\n",
        "elif operator==\"/\":\n",
        "    result=num1/num2\n",
        "elif operator==\"%\":\n",
        "    result=num1%num2\n",
        "elif operator==\"**\":\n",
        "    result=num1**num2\n",
        "else:\n",
        "    print(\"Invalid operator\")\n",
        "print(result)"
      ],
      "metadata": {
        "colab": {
          "base_uri": "https://localhost:8080/"
        },
        "id": "hmAjCRmrwzyJ",
        "outputId": "3f6136c5-dd1c-49bb-ff06-9a82082dd3f7"
      },
      "execution_count": 3,
      "outputs": [
        {
          "output_type": "stream",
          "name": "stdout",
          "text": [
            "Enter first number: 12\n",
            "Enter second number:3\n",
            "Enter operator: (+,-,*,/,%,**):+\n",
            "15\n"
          ]
        }
      ]
    },
    {
      "cell_type": "code",
      "source": [
        "import ipywidgets as widgets\n",
        "from IPython.display import display\n",
        "\n",
        "# Create input fields\n",
        "num1 = widgets.FloatText(description='Number 1:')\n",
        "num2 = widgets.FloatText(description='Number 2:')\n",
        "operation = widgets.Dropdown(options=['Addition', 'Subtraction', 'Multiplication', 'Division'], description='Operation:')\n",
        "\n",
        "# Create output field\n",
        "output = widgets.Text(description='Result:')\n",
        "\n",
        "# Define calculation function\n",
        "def calculate(b):\n",
        "    if operation.value == 'Addition':\n",
        "        result = num1.value + num2.value\n",
        "    elif operation.value == 'Subtraction':\n",
        "        result = num1.value - num2.value\n",
        "    elif operation.value == 'Multiplication':\n",
        "        result = num1.value * num2.value\n",
        "    elif operation.value == 'Division':\n",
        "        if num2.value != 0:\n",
        "            result = num1.value / num2.value\n",
        "        else:\n",
        "            result = \"Error! Division by zero is not allowed.\"\n",
        "    output.value = str(result)\n",
        "\n",
        "# Create button\n",
        "button = widgets.Button(description='Calculate')\n",
        "button.on_click(calculate)\n",
        "\n",
        "# Display widgets\n",
        "display(num1)\n",
        "display(num2)\n",
        "display(operation)\n",
        "display(button)\n",
        "display(output)"
      ],
      "metadata": {
        "colab": {
          "base_uri": "https://localhost:8080/",
          "height": 173,
          "referenced_widgets": [
            "028230f9d7a14e218236480c559671b8",
            "8dc5c0d12cdb4616878b52a30d61534d",
            "8ff2e902672141bca7556f12793de0e6",
            "8a0a190b2ff84e6f918c57dd79bc3cd2",
            "2022de97e3da471aba5711d0e7c48d76",
            "3b5759fa0f454082a356adaa5e2f3f95",
            "0435fbf092c24678a140b5d39d0cf094",
            "3d65cf024ae143c694efef8ebded23bf",
            "297846c1e28a40749d6e4325a4fff9d2",
            "bab86a2bca6143ada72026720241ccf0",
            "648201ba4d9b48e08fd83e891e43bf3a",
            "e910d1ba90e0422cb66bc0163827e84d",
            "20aa20a0cda54e269ca6634be7e0c01d",
            "df86cf87da29435caa603c3220100fe2",
            "17ef843ac63946f7b8943c8c62e9f60f"
          ]
        },
        "id": "tW-6DXsq3fKs",
        "outputId": "85930f51-ee95-40a1-cf33-eadebee69c83"
      },
      "execution_count": 4,
      "outputs": [
        {
          "output_type": "display_data",
          "data": {
            "text/plain": [
              "FloatText(value=0.0, description='Number 1:')"
            ],
            "application/vnd.jupyter.widget-view+json": {
              "version_major": 2,
              "version_minor": 0,
              "model_id": "028230f9d7a14e218236480c559671b8"
            }
          },
          "metadata": {}
        },
        {
          "output_type": "display_data",
          "data": {
            "text/plain": [
              "FloatText(value=0.0, description='Number 2:')"
            ],
            "application/vnd.jupyter.widget-view+json": {
              "version_major": 2,
              "version_minor": 0,
              "model_id": "8a0a190b2ff84e6f918c57dd79bc3cd2"
            }
          },
          "metadata": {}
        },
        {
          "output_type": "display_data",
          "data": {
            "text/plain": [
              "Dropdown(description='Operation:', options=('Addition', 'Subtraction', 'Multiplication', 'Division'), value='A…"
            ],
            "application/vnd.jupyter.widget-view+json": {
              "version_major": 2,
              "version_minor": 0,
              "model_id": "0435fbf092c24678a140b5d39d0cf094"
            }
          },
          "metadata": {}
        },
        {
          "output_type": "display_data",
          "data": {
            "text/plain": [
              "Button(description='Calculate', style=ButtonStyle())"
            ],
            "application/vnd.jupyter.widget-view+json": {
              "version_major": 2,
              "version_minor": 0,
              "model_id": "bab86a2bca6143ada72026720241ccf0"
            }
          },
          "metadata": {}
        },
        {
          "output_type": "display_data",
          "data": {
            "text/plain": [
              "Text(value='', description='Result:')"
            ],
            "application/vnd.jupyter.widget-view+json": {
              "version_major": 2,
              "version_minor": 0,
              "model_id": "20aa20a0cda54e269ca6634be7e0c01d"
            }
          },
          "metadata": {}
        }
      ]
    },
    {
      "cell_type": "code",
      "source": [],
      "metadata": {
        "id": "P5rv3XHM6tWu"
      },
      "execution_count": null,
      "outputs": []
    }
  ]
}