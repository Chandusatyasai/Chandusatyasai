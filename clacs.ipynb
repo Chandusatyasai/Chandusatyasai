{
  "nbformat": 4,
  "nbformat_minor": 0,
  "metadata": {
    "colab": {
      "provenance": [],
      "include_colab_link": true
    },
    "kernelspec": {
      "name": "python3",
      "display_name": "Python 3"
    },
    "language_info": {
      "name": "python"
    }
  },
  "cells": [
    {
      "cell_type": "markdown",
      "metadata": {
        "id": "view-in-github",
        "colab_type": "text"
      },
      "source": [
        "<a href=\"https://colab.research.google.com/github/Chandusatyasai/Chandusatyasai/blob/microit/clacs.ipynb\" target=\"_parent\"><img src=\"https://colab.research.google.com/assets/colab-badge.svg\" alt=\"Open In Colab\"/></a>"
      ]
    },
    {
      "cell_type": "code",
      "execution_count": 2,
      "metadata": {
        "id": "uJpriMVKk0sP",
        "colab": {
          "base_uri": "https://localhost:8080/"
        },
        "outputId": "d0340229-90d3-40fb-ca5c-093df68a1f25"
      },
      "outputs": [
        {
          "output_type": "stream",
          "name": "stdout",
          "text": [
            "Reading package lists... Done\n",
            "Building dependency tree... Done\n",
            "Reading state information... Done\n",
            "xvfb is already the newest version (2:21.1.4-2ubuntu1.7~22.04.14).\n",
            "0 upgraded, 0 newly installed, 0 to remove and 35 not upgraded.\n",
            "Requirement already satisfied: pyvirtualdisplay in /usr/local/lib/python3.11/dist-packages (3.0)\n"
          ]
        }
      ],
      "source": [
        "!apt-get install -y xvfb # Install X Virtual Frame Buffer\n",
        "!pip install pyvirtualdisplay\n",
        "import pyvirtualdisplay\n",
        "display = pyvirtualdisplay.Display(visible=0, size=(1024, 768))\n",
        "from pyvirtualdisplay import Display\n",
        "display = Display(visible=0, size=(1024, 768))\n",
        "display.start()\n",
        "import os\n",
        "os.system('Xvfb :1 -screen 0 1600x1200x16  &')\n",
        "from ast import Add\n",
        "import tkinter\n",
        "from tkinter import *\n",
        "root=tkinter.Tk()\n",
        "root.title(\"Rakesh Calc\")\n",
        "e=tkinter.Entry(root,width=35,borderwidth=5)\n",
        "e.grid(row=0,column=0,columnspan=3,padx=10,pady=10)\n",
        "def button_click(number):\n",
        "    current=e.get()\n",
        "    e.delete(0,END)\n",
        "    e.insert(0,str(current)+str(number))\n",
        "def button_clear():\n",
        "    e.delete(0,END)\n",
        "def button_add():\n",
        "    first_number=e.get()\n",
        "    global f_num\n",
        "    global math\n",
        "    math=\"addition\"\n",
        "    f_num=int(first_number)\n",
        "    e.delete(0,END)\n",
        "def button_equal():\n",
        "    second_number=e.get()\n",
        "    e.delete(0,END)\n",
        "    if math==\"addition\":\n",
        "        e.insert(0,f_num+int(second_number))\n",
        "    elif math==\"subtraction\":\n",
        "        e.insert(0,f_num-int(second_number))\n",
        "    elif math==\"multiplication\":\n",
        "        e.insert(0,f_num*int(second_number))\n",
        "    elif math==\"division\":\n",
        "        e.insert(0,f_num/int(second_number))\n",
        "    elif math==\"modulus\":\n",
        "        e.insert(0,f_num%int(second_number))\n",
        "    elif math==\"power\":\n",
        "        e.insert(0,f_num**int(second_number))\n",
        "def subtract():\n",
        "    first_number=e.get()\n",
        "    global f_num\n",
        "    global math\n",
        "    math=\"subtraction\"\n",
        "    f_num=int(first_number)\n",
        "    e.delete(0,END)\n",
        "    return\n",
        "def multiply():\n",
        "    first_number=e.get()\n",
        "    global f_num\n",
        "    global math\n",
        "    math=\"multiplication\"\n",
        "    f_num=int(first_number)\n",
        "    e.delete(0,END)\n",
        "    return\n",
        "def divide():\n",
        "    first_number=e.get()\n",
        "    global f_num\n",
        "    global math\n",
        "    math=\"division\"\n",
        "    f_num=int(first_number)\n",
        "    e.delete(0,END)\n",
        "    return\n",
        "def modulus():\n",
        "    first_number=e.get()\n",
        "    global f_num\n",
        "    global math\n",
        "    math=\"modulus\"\n",
        "    f_num=int(first_number)\n",
        "    e.delete(0,END)\n",
        "    return\n",
        "def power():\n",
        "    first_number=e.get()\n",
        "    global f_num\n",
        "    global math\n",
        "    math=\"power\"\n",
        "    f_num=int(first_number)\n",
        "    e.delete(0,END)\n",
        "    return\n",
        "    button1=tkinter.Button(root,text=\"1\",padx=40,pady=20,command=lambda:button_click(1))\n",
        "    button2=tkinter.Button(root,text=\"2\",padx=40,pady=20,command=lambda:button_click(2))\n",
        "    button3=tkinter.Button(root,text=\"3\",padx=40,pady=20,command=lambda:button_click(3))\n",
        "    button4=tkinter.Button(root,text=\"4\",padx=40,pady=20,command=lambda:button_click(4))\n",
        "    button5=tkinter.Button(root,text=\"5\",padx=40,pady=20,command=lambda:button_click(5))\n",
        "    button6=tkinter.Button(root,text=\"6\",padx=40,pady=20,command=lambda:button_click(6))\n",
        "    button7=tkinter.Button(root,text=\"7\",padx=40,pady=20,command=lambda:button_click(7))\n",
        "    button8=tkinter.Button(root,text=\"8\",padx=40,pady=20,command=lambda:button_click(8))\n",
        "    button9=tkinter.Button(root,text=\"9\",padx=40,pady=20,command=lambda:button_click(9))\n",
        "    button0=tkinter.Button(root,text=\"0\",padx=40,pady=20,command=lambda:button_click(0))\n",
        "    button_add=tkinter.Button(root,text=\"+\",padx=39,pady=20,command=button_add)\n",
        "    button_equal=tkinter.Button(root,text=\"=\",padx=91,pady=20,command=button_equal)\n",
        "    button_clear=tkinter.Button(root,text=\"Clear\",padx=79,pady=20,command=button_clear)\n",
        "    button_subtract=tkinter.Button(root,text=\"-\",padx=41,pady=20,command=subtract)\n",
        "    button_multiply=tkinter.Button(root,text=\"*\",padx=40,pady=20,command=multiply)\n",
        "    button_divide=tkinter.Button(root,text=\"/\",padx=41,pady=20,command=divide)\n",
        "    button_modulus=tkinter.Button(root,text=\"%\",padx=41,pady=20,command=modulus)\n",
        "    button_power=tkinter.Button(root,text=\"^\",padx=41,pady=20,command=power)\n",
        "    buttonqiut=tkinter.Button(root,text=\"Quit\",padx=41,pady=20,command=quit)\n",
        "    button1.grid(row=3,column=0)\n",
        "    button2.grid(row=3,column=1)\n",
        "    button3.grid(row=3,column=2)\n",
        "    button4.grid(row=2,column=0)\n",
        "    button5.grid(row=2,column=1)\n",
        "    button6.grid(row=2,column=2)\n",
        "    button7.grid(row=1,column=0)\n",
        "    button8.grid(row=1,column=1)\n",
        "    button9.grid(row=1,column=2)\n",
        "    button0.grid(row=4,column=0)\n",
        "    button_add.grid(row=5,column=0)\n",
        "    button_equal.grid(row=5,column=1,columnspan=2)\n",
        "    button_clear.grid(row=4,column=1,columnspan=2)\n",
        "    button_subtract.grid(row=6,column=0)\n",
        "    button_multiply.grid(row=6,column=1)\n",
        "    button_divide.grid(row=6,column=2)\n",
        "    button_modulus.grid(row=7,column=0)\n",
        "    button_power.grid(row=7,column=1)\n",
        "    buttonqiut.grid(row=7,column=2)\n",
        "    root.mainloop( )"
      ]
    },
    {
      "cell_type": "code",
      "source": [
        "num1=int(input(\"Enter first number: \"))\n",
        "num2=int(input(\"Enter second number:\"))\n",
        "operator=input(\"Enter operator: (+,-,*,/,%,**):\")\n",
        "result=0\n",
        "if operator==\"+\":\n",
        "    result=num1+num2\n",
        "elif operator==\"-\":\n",
        "    result=num1-num2\n",
        "elif operator==\"*\":\n",
        "    result=num1*num2\n",
        "elif operator==\"/\":\n",
        "    result=num1/num2\n",
        "elif operator==\"%\":\n",
        "    result=num1%num2\n",
        "elif operator==\"**\":\n",
        "    result=num1**num2\n",
        "else:\n",
        "    print(\"Invalid operator\")\n",
        "print(result)"
      ],
      "metadata": {
        "colab": {
          "base_uri": "https://localhost:8080/"
        },
        "id": "hmAjCRmrwzyJ",
        "outputId": "3f6136c5-dd1c-49bb-ff06-9a82082dd3f7"
      },
      "execution_count": 3,
      "outputs": [
        {
          "output_type": "stream",
          "name": "stdout",
          "text": [
            "Enter first number: 12\n",
            "Enter second number:3\n",
            "Enter operator: (+,-,*,/,%,**):+\n",
            "15\n"
          ]
        }
      ]
    },
    {
      "cell_type": "code",
      "source": [],
      "metadata": {
        "id": "tW-6DXsq3fKs"
      },
      "execution_count": 4,
      "outputs": []
    },
    {
      "cell_type": "code",
      "source": [],
      "metadata": {
        "id": "P5rv3XHM6tWu"
      },
      "execution_count": null,
      "outputs": []
    }
  ]
}